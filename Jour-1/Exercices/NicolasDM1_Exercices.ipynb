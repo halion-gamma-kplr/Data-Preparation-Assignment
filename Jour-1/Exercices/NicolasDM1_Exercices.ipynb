{
  "cells": [
    {
      "cell_type": "markdown",
      "metadata": {
        "id": "gPQ9DA5VQpyP"
      },
      "source": [
        "**Exercice 1 :**    \n",
        "Créer un programme pandas Python qui traite les données du tableau suivant à l'aide d'un DataFrame et les affiches sous forme d'un tableau à l'écran:\n",
        "\n",
        "![image](https://user-images.githubusercontent.com/123748165/226333321-a26d48aa-a3d8-4d4a-8dd0-fe0745f0c81c.png)"
      ]
    },
    {
      "cell_type": "code",
      "execution_count": 105,
      "metadata": {
        "id": "hczTxtG5QTPn",
        "colab": {
          "base_uri": "https://localhost:8080/"
        },
        "outputId": "2156eb0e-5b48-41ff-a1ac-de04b5a3d629"
      },
      "outputs": [
        {
          "output_type": "stream",
          "name": "stdout",
          "text": [
            "   ID      Name               Email   Section\n",
            "0   1    Albert    albert@gmail.com       SVT\n",
            "1   2  Nathalie  nathalie@gmail.com    SC Eco\n",
            "2   3    Robert    robert@gmail.com      Math\n",
            "3   4    Jesika    jesika@gmail.com     Philo\n",
            "4   5      Adam      adam@gmail.com  Physique\n"
          ]
        }
      ],
      "source": [
        "import pandas as pd\n",
        "\n",
        "tab = {'ID':[1,2,3,4,5],'Name':['Albert','Nathalie','Robert','Jesika','Adam'],'Email':['albert@gmail.com','nathalie@gmail.com','robert@gmail.com','jesika@gmail.com','adam@gmail.com'],'Section':['SVT','SC Eco','Math','Philo','Physique']}\n",
        "\n",
        "def toDataFrame(dataframe) :\n",
        "  print(pd.DataFrame(dataframe))\n",
        "\n",
        "toDataFrame(tab)"
      ]
    },
    {
      "cell_type": "markdown",
      "metadata": {
        "id": "az373nbCRlfE"
      },
      "source": [
        "**Exercice 2 :**    \n",
        "Créer un programme pandas python qui permet de convertir la série:"
      ]
    },
    {
      "cell_type": "code",
      "execution_count": 106,
      "metadata": {
        "id": "XJUCW8CsSFTs"
      },
      "outputs": [],
      "source": [
        "import pandas as pd\n",
        "import numpy as np\n",
        "\n",
        "serie = pd.Series(np.array(['P', 'a', 'n', 'd', 'a' , 's']))\n",
        " "
      ]
    },
    {
      "cell_type": "markdown",
      "metadata": {
        "id": "BCWAWqktSHbC"
      },
      "source": [
        "en la chaine de caractères formée par les éléments de la série. Le programme doit renvoyer la chaine s = \"Pandas\"."
      ]
    },
    {
      "cell_type": "code",
      "execution_count": 107,
      "metadata": {
        "id": "lEZkaUupSQmM",
        "colab": {
          "base_uri": "https://localhost:8080/",
          "height": 35
        },
        "outputId": "f4a77d40-64a1-43c8-ce3b-55f564e4af00"
      },
      "outputs": [
        {
          "output_type": "execute_result",
          "data": {
            "text/plain": [
              "'Pandas'"
            ],
            "application/vnd.google.colaboratory.intrinsic+json": {
              "type": "string"
            }
          },
          "metadata": {},
          "execution_count": 107
        }
      ],
      "source": [
        "serie.str.cat()"
      ]
    },
    {
      "cell_type": "markdown",
      "metadata": {
        "id": "dKGvvdBeSbc_"
      },
      "source": [
        "**Exercice 3 :**    \n",
        "Ecrire un programme pandas python qui permet de supprimer un élément de la série:"
      ]
    },
    {
      "cell_type": "code",
      "execution_count": 108,
      "metadata": {
        "id": "4nUqpIsjSmuA",
        "colab": {
          "base_uri": "https://localhost:8080/"
        },
        "outputId": "1c470ed0-6428-48a6-a012-7e99c1b8184e"
      },
      "outputs": [
        {
          "name": "stdout",
          "output_type": "stream",
          "text": [
            "Index de la colonne à supprimer? 0\n"
          ]
        },
        {
          "output_type": "execute_result",
          "data": {
            "text/plain": [
              "1     Djnago\n",
              "2    Tkinter\n",
              "3       PyQt\n",
              "4      numpy\n",
              "dtype: object"
            ]
          },
          "metadata": {},
          "execution_count": 108
        }
      ],
      "source": [
        "import pandas as pd\n",
        "\n",
        "df = pd.Series(['Python' , 'Djnago' , 'Tkinter' , 'PyQt' , 'numpy'])\n",
        "\n",
        "def suppr_el(df) :\n",
        "  df.drop(int(input('Index de la colonne à supprimer? ')), inplace=True)\n",
        "\n",
        "suppr_el(df)\n",
        "df"
      ]
    },
    {
      "cell_type": "markdown",
      "metadata": {
        "id": "G8VuSBQgSpJW"
      },
      "source": [
        "Supprimer le dernier élément à titre d'exemple."
      ]
    },
    {
      "cell_type": "code",
      "execution_count": 109,
      "metadata": {
        "id": "poXfZQb1TcGg"
      },
      "outputs": [],
      "source": [
        "#solution"
      ]
    },
    {
      "cell_type": "markdown",
      "metadata": {
        "id": "0BhKVl2qS4Xv"
      },
      "source": [
        "**Exercice 4 :**    \n",
        "Reprendre l'exercice précédent **(Exercice3)** en créant cette fois-ci un programme basé sur la bibliothèque pandas python qui supprime les éléments d'index pair de la série."
      ]
    },
    {
      "cell_type": "code",
      "execution_count": 110,
      "metadata": {
        "id": "EhAJ2YS5TZyH",
        "colab": {
          "base_uri": "https://localhost:8080/"
        },
        "outputId": "f967aeac-0dc2-472e-fecb-42953330269c"
      },
      "outputs": [
        {
          "output_type": "execute_result",
          "data": {
            "text/plain": [
              "1    Djnago\n",
              "3      PyQt\n",
              "dtype: object"
            ]
          },
          "metadata": {},
          "execution_count": 110
        }
      ],
      "source": [
        "import pandas as pd\n",
        "\n",
        "df = pd.Series(['Python' , 'Djnago' , 'Tkinter' , 'PyQt' , 'numpy'])\n",
        "\n",
        "def suppr_el(df) :\n",
        "  for index in range(0,len(df),2) :\n",
        "    df.drop(index, inplace=True)\n",
        "\n",
        "suppr_el(df)\n",
        "df"
      ]
    },
    {
      "cell_type": "code",
      "source": [
        "df.drop"
      ],
      "metadata": {
        "colab": {
          "base_uri": "https://localhost:8080/"
        },
        "id": "qj3f63YSJUAZ",
        "outputId": "f3053640-38bd-44c1-a716-25416e15a458"
      },
      "execution_count": 111,
      "outputs": [
        {
          "output_type": "execute_result",
          "data": {
            "text/plain": [
              "<bound method Series.drop of 1    Djnago\n",
              "3      PyQt\n",
              "dtype: object>"
            ]
          },
          "metadata": {},
          "execution_count": 111
        }
      ]
    },
    {
      "cell_type": "markdown",
      "metadata": {
        "id": "wFNL_aSLT0N-"
      },
      "source": [
        "**Exercice 5 :**    \n",
        "Modfifier le programme suivant afin de supprimer la colonne 'Section' et la remplacer par la colonne: Age = [ 22 , 23 , 21 , 20 , 25 ] sans toucher à laliste data. les modifiction doivent être apportées uniquement au DataFrame df:"
      ]
    },
    {
      "cell_type": "code",
      "execution_count": 112,
      "metadata": {
        "id": "5x-Le8gUUD3l"
      },
      "outputs": [],
      "source": [
        "import pandas as ps\n",
        " \n",
        "# liste des données\n",
        "data = [['Tomas' , 'tomas@gmail.com' , 'Math'], \n",
        "        ['Albert' ,'albert@gmail.com' , 'SVT' ],\n",
        "        ['Nathalie', 'nathalie@gmail.com' , 'Sc Eco'], \n",
        "        ['Roberto' ,'roberto@gmail.com' , 'Physique'],\n",
        "        ['Adam' , 'adam@gmail.com' , 'Info']]\n",
        "labels = [11 , 12, 13 , 14, 15]\n",
        " \n",
        "# création du DataFrame\n",
        "df = ps.DataFrame(data , index=labels , columns=[ 'Name' , 'Email' , 'Section'])"
      ]
    },
    {
      "cell_type": "code",
      "execution_count": 113,
      "metadata": {
        "id": "SzOIPql3UEyC",
        "colab": {
          "base_uri": "https://localhost:8080/",
          "height": 206
        },
        "outputId": "4a8b7f2b-6112-40db-c2bf-dc78eb66b53c"
      },
      "outputs": [
        {
          "output_type": "execute_result",
          "data": {
            "text/plain": [
              "        Name               Email  Age\n",
              "11     Tomas     tomas@gmail.com   22\n",
              "12    Albert    albert@gmail.com   23\n",
              "13  Nathalie  nathalie@gmail.com   21\n",
              "14   Roberto   roberto@gmail.com   20\n",
              "15      Adam      adam@gmail.com   25"
            ],
            "text/html": [
              "\n",
              "  <div id=\"df-a1cfed35-6dd3-4829-8b77-0a41752bf1b0\">\n",
              "    <div class=\"colab-df-container\">\n",
              "      <div>\n",
              "<style scoped>\n",
              "    .dataframe tbody tr th:only-of-type {\n",
              "        vertical-align: middle;\n",
              "    }\n",
              "\n",
              "    .dataframe tbody tr th {\n",
              "        vertical-align: top;\n",
              "    }\n",
              "\n",
              "    .dataframe thead th {\n",
              "        text-align: right;\n",
              "    }\n",
              "</style>\n",
              "<table border=\"1\" class=\"dataframe\">\n",
              "  <thead>\n",
              "    <tr style=\"text-align: right;\">\n",
              "      <th></th>\n",
              "      <th>Name</th>\n",
              "      <th>Email</th>\n",
              "      <th>Age</th>\n",
              "    </tr>\n",
              "  </thead>\n",
              "  <tbody>\n",
              "    <tr>\n",
              "      <th>11</th>\n",
              "      <td>Tomas</td>\n",
              "      <td>tomas@gmail.com</td>\n",
              "      <td>22</td>\n",
              "    </tr>\n",
              "    <tr>\n",
              "      <th>12</th>\n",
              "      <td>Albert</td>\n",
              "      <td>albert@gmail.com</td>\n",
              "      <td>23</td>\n",
              "    </tr>\n",
              "    <tr>\n",
              "      <th>13</th>\n",
              "      <td>Nathalie</td>\n",
              "      <td>nathalie@gmail.com</td>\n",
              "      <td>21</td>\n",
              "    </tr>\n",
              "    <tr>\n",
              "      <th>14</th>\n",
              "      <td>Roberto</td>\n",
              "      <td>roberto@gmail.com</td>\n",
              "      <td>20</td>\n",
              "    </tr>\n",
              "    <tr>\n",
              "      <th>15</th>\n",
              "      <td>Adam</td>\n",
              "      <td>adam@gmail.com</td>\n",
              "      <td>25</td>\n",
              "    </tr>\n",
              "  </tbody>\n",
              "</table>\n",
              "</div>\n",
              "      <button class=\"colab-df-convert\" onclick=\"convertToInteractive('df-a1cfed35-6dd3-4829-8b77-0a41752bf1b0')\"\n",
              "              title=\"Convert this dataframe to an interactive table.\"\n",
              "              style=\"display:none;\">\n",
              "        \n",
              "  <svg xmlns=\"http://www.w3.org/2000/svg\" height=\"24px\"viewBox=\"0 0 24 24\"\n",
              "       width=\"24px\">\n",
              "    <path d=\"M0 0h24v24H0V0z\" fill=\"none\"/>\n",
              "    <path d=\"M18.56 5.44l.94 2.06.94-2.06 2.06-.94-2.06-.94-.94-2.06-.94 2.06-2.06.94zm-11 1L8.5 8.5l.94-2.06 2.06-.94-2.06-.94L8.5 2.5l-.94 2.06-2.06.94zm10 10l.94 2.06.94-2.06 2.06-.94-2.06-.94-.94-2.06-.94 2.06-2.06.94z\"/><path d=\"M17.41 7.96l-1.37-1.37c-.4-.4-.92-.59-1.43-.59-.52 0-1.04.2-1.43.59L10.3 9.45l-7.72 7.72c-.78.78-.78 2.05 0 2.83L4 21.41c.39.39.9.59 1.41.59.51 0 1.02-.2 1.41-.59l7.78-7.78 2.81-2.81c.8-.78.8-2.07 0-2.86zM5.41 20L4 18.59l7.72-7.72 1.47 1.35L5.41 20z\"/>\n",
              "  </svg>\n",
              "      </button>\n",
              "      \n",
              "  <style>\n",
              "    .colab-df-container {\n",
              "      display:flex;\n",
              "      flex-wrap:wrap;\n",
              "      gap: 12px;\n",
              "    }\n",
              "\n",
              "    .colab-df-convert {\n",
              "      background-color: #E8F0FE;\n",
              "      border: none;\n",
              "      border-radius: 50%;\n",
              "      cursor: pointer;\n",
              "      display: none;\n",
              "      fill: #1967D2;\n",
              "      height: 32px;\n",
              "      padding: 0 0 0 0;\n",
              "      width: 32px;\n",
              "    }\n",
              "\n",
              "    .colab-df-convert:hover {\n",
              "      background-color: #E2EBFA;\n",
              "      box-shadow: 0px 1px 2px rgba(60, 64, 67, 0.3), 0px 1px 3px 1px rgba(60, 64, 67, 0.15);\n",
              "      fill: #174EA6;\n",
              "    }\n",
              "\n",
              "    [theme=dark] .colab-df-convert {\n",
              "      background-color: #3B4455;\n",
              "      fill: #D2E3FC;\n",
              "    }\n",
              "\n",
              "    [theme=dark] .colab-df-convert:hover {\n",
              "      background-color: #434B5C;\n",
              "      box-shadow: 0px 1px 3px 1px rgba(0, 0, 0, 0.15);\n",
              "      filter: drop-shadow(0px 1px 2px rgba(0, 0, 0, 0.3));\n",
              "      fill: #FFFFFF;\n",
              "    }\n",
              "  </style>\n",
              "\n",
              "      <script>\n",
              "        const buttonEl =\n",
              "          document.querySelector('#df-a1cfed35-6dd3-4829-8b77-0a41752bf1b0 button.colab-df-convert');\n",
              "        buttonEl.style.display =\n",
              "          google.colab.kernel.accessAllowed ? 'block' : 'none';\n",
              "\n",
              "        async function convertToInteractive(key) {\n",
              "          const element = document.querySelector('#df-a1cfed35-6dd3-4829-8b77-0a41752bf1b0');\n",
              "          const dataTable =\n",
              "            await google.colab.kernel.invokeFunction('convertToInteractive',\n",
              "                                                     [key], {});\n",
              "          if (!dataTable) return;\n",
              "\n",
              "          const docLinkHtml = 'Like what you see? Visit the ' +\n",
              "            '<a target=\"_blank\" href=https://colab.research.google.com/notebooks/data_table.ipynb>data table notebook</a>'\n",
              "            + ' to learn more about interactive tables.';\n",
              "          element.innerHTML = '';\n",
              "          dataTable['output_type'] = 'display_data';\n",
              "          await google.colab.output.renderOutput(dataTable, element);\n",
              "          const docLink = document.createElement('div');\n",
              "          docLink.innerHTML = docLinkHtml;\n",
              "          element.appendChild(docLink);\n",
              "        }\n",
              "      </script>\n",
              "    </div>\n",
              "  </div>\n",
              "  "
            ]
          },
          "metadata": {},
          "execution_count": 113
        }
      ],
      "source": [
        "import pandas as pd\n",
        "\n",
        "def repl_Sec_for_Age(df) :\n",
        "  df.drop('Section', axis=1, inplace=True)\n",
        "  df['Age']=[22,23,21,20,25]\n",
        "\n",
        "repl_Sec_for_Age(df)\n",
        "df"
      ]
    },
    {
      "cell_type": "code",
      "source": [
        "'''\n",
        "df.pop('Section')\n",
        "df['Age']=[22,23,21,20,25]\n",
        "df\n",
        "'''"
      ],
      "metadata": {
        "colab": {
          "base_uri": "https://localhost:8080/",
          "height": 35
        },
        "id": "9gmRoBZ3Jp6H",
        "outputId": "8b252ba1-c434-4ed1-8142-27284936c3f5"
      },
      "execution_count": 114,
      "outputs": [
        {
          "output_type": "execute_result",
          "data": {
            "text/plain": [
              "\"\\ndf.pop('Section')\\ndf['Age']=[22,23,21,20,25]\\ndf\\n\""
            ],
            "application/vnd.google.colaboratory.intrinsic+json": {
              "type": "string"
            }
          },
          "metadata": {},
          "execution_count": 114
        }
      ]
    },
    {
      "cell_type": "markdown",
      "metadata": {
        "id": "UUjEdKC2fu-9"
      },
      "source": [
        "**Exercice 6 :**    \n",
        "A partir du programme suivant qui represente les données des étudiants dans un DataFrame:"
      ]
    },
    {
      "cell_type": "code",
      "execution_count": 115,
      "metadata": {
        "id": "EJy5roV9f2JW",
        "colab": {
          "base_uri": "https://localhost:8080/"
        },
        "outputId": "a977a478-41fe-4e03-c883-914c9d38f9f2"
      },
      "outputs": [
        {
          "output_type": "execute_result",
          "data": {
            "text/plain": [
              "11       tomas@gmail.com\n",
              "12      albert@gmail.com\n",
              "13    nathalie@gmail.com\n",
              "14     roberto@gmail.com\n",
              "15        adam@gmail.com\n",
              "Name: Email, dtype: object"
            ]
          },
          "metadata": {},
          "execution_count": 115
        }
      ],
      "source": [
        "import pandas as ps\n",
        " \n",
        "# liste des données\n",
        "data = [['Tomas' , 'tomas@gmail.com' , 'Math'], \n",
        "        ['Albert' ,'albert@gmail.com' , 'SVT' ],\n",
        "        ['Nathalie', 'nathalie@gmail.com' , 'Sc Eco'], \n",
        "        ['Roberto' ,'roberto@gmail.com' , 'Physique'],\n",
        "        ['Adam' , 'adam@gmail.com' , 'Info']]\n",
        "labels = [11 , 12, 13 , 14, 15]\n",
        " \n",
        "# création du DataFrame\n",
        "df = ps.DataFrame(data , index=labels , columns=[ 'Name' , 'Email' , 'Section'])\n",
        "df['Email']"
      ]
    },
    {
      "cell_type": "code",
      "execution_count": 116,
      "metadata": {
        "id": "k0I_eCgMf-NR",
        "colab": {
          "base_uri": "https://localhost:8080/",
          "height": 206
        },
        "outputId": "b06e0edf-46f3-4860-81da-b95116c7c7aa"
      },
      "outputs": [
        {
          "output_type": "execute_result",
          "data": {
            "text/plain": [
              "                 Email\n",
              "11     tomas@gmail.com\n",
              "12    albert@gmail.com\n",
              "13  nathalie@gmail.com\n",
              "14   roberto@gmail.com\n",
              "15      adam@gmail.com"
            ],
            "text/html": [
              "\n",
              "  <div id=\"df-5ff1f974-75d1-4835-a0bc-814cf2b16b52\">\n",
              "    <div class=\"colab-df-container\">\n",
              "      <div>\n",
              "<style scoped>\n",
              "    .dataframe tbody tr th:only-of-type {\n",
              "        vertical-align: middle;\n",
              "    }\n",
              "\n",
              "    .dataframe tbody tr th {\n",
              "        vertical-align: top;\n",
              "    }\n",
              "\n",
              "    .dataframe thead th {\n",
              "        text-align: right;\n",
              "    }\n",
              "</style>\n",
              "<table border=\"1\" class=\"dataframe\">\n",
              "  <thead>\n",
              "    <tr style=\"text-align: right;\">\n",
              "      <th></th>\n",
              "      <th>Email</th>\n",
              "    </tr>\n",
              "  </thead>\n",
              "  <tbody>\n",
              "    <tr>\n",
              "      <th>11</th>\n",
              "      <td>tomas@gmail.com</td>\n",
              "    </tr>\n",
              "    <tr>\n",
              "      <th>12</th>\n",
              "      <td>albert@gmail.com</td>\n",
              "    </tr>\n",
              "    <tr>\n",
              "      <th>13</th>\n",
              "      <td>nathalie@gmail.com</td>\n",
              "    </tr>\n",
              "    <tr>\n",
              "      <th>14</th>\n",
              "      <td>roberto@gmail.com</td>\n",
              "    </tr>\n",
              "    <tr>\n",
              "      <th>15</th>\n",
              "      <td>adam@gmail.com</td>\n",
              "    </tr>\n",
              "  </tbody>\n",
              "</table>\n",
              "</div>\n",
              "      <button class=\"colab-df-convert\" onclick=\"convertToInteractive('df-5ff1f974-75d1-4835-a0bc-814cf2b16b52')\"\n",
              "              title=\"Convert this dataframe to an interactive table.\"\n",
              "              style=\"display:none;\">\n",
              "        \n",
              "  <svg xmlns=\"http://www.w3.org/2000/svg\" height=\"24px\"viewBox=\"0 0 24 24\"\n",
              "       width=\"24px\">\n",
              "    <path d=\"M0 0h24v24H0V0z\" fill=\"none\"/>\n",
              "    <path d=\"M18.56 5.44l.94 2.06.94-2.06 2.06-.94-2.06-.94-.94-2.06-.94 2.06-2.06.94zm-11 1L8.5 8.5l.94-2.06 2.06-.94-2.06-.94L8.5 2.5l-.94 2.06-2.06.94zm10 10l.94 2.06.94-2.06 2.06-.94-2.06-.94-.94-2.06-.94 2.06-2.06.94z\"/><path d=\"M17.41 7.96l-1.37-1.37c-.4-.4-.92-.59-1.43-.59-.52 0-1.04.2-1.43.59L10.3 9.45l-7.72 7.72c-.78.78-.78 2.05 0 2.83L4 21.41c.39.39.9.59 1.41.59.51 0 1.02-.2 1.41-.59l7.78-7.78 2.81-2.81c.8-.78.8-2.07 0-2.86zM5.41 20L4 18.59l7.72-7.72 1.47 1.35L5.41 20z\"/>\n",
              "  </svg>\n",
              "      </button>\n",
              "      \n",
              "  <style>\n",
              "    .colab-df-container {\n",
              "      display:flex;\n",
              "      flex-wrap:wrap;\n",
              "      gap: 12px;\n",
              "    }\n",
              "\n",
              "    .colab-df-convert {\n",
              "      background-color: #E8F0FE;\n",
              "      border: none;\n",
              "      border-radius: 50%;\n",
              "      cursor: pointer;\n",
              "      display: none;\n",
              "      fill: #1967D2;\n",
              "      height: 32px;\n",
              "      padding: 0 0 0 0;\n",
              "      width: 32px;\n",
              "    }\n",
              "\n",
              "    .colab-df-convert:hover {\n",
              "      background-color: #E2EBFA;\n",
              "      box-shadow: 0px 1px 2px rgba(60, 64, 67, 0.3), 0px 1px 3px 1px rgba(60, 64, 67, 0.15);\n",
              "      fill: #174EA6;\n",
              "    }\n",
              "\n",
              "    [theme=dark] .colab-df-convert {\n",
              "      background-color: #3B4455;\n",
              "      fill: #D2E3FC;\n",
              "    }\n",
              "\n",
              "    [theme=dark] .colab-df-convert:hover {\n",
              "      background-color: #434B5C;\n",
              "      box-shadow: 0px 1px 3px 1px rgba(0, 0, 0, 0.15);\n",
              "      filter: drop-shadow(0px 1px 2px rgba(0, 0, 0, 0.3));\n",
              "      fill: #FFFFFF;\n",
              "    }\n",
              "  </style>\n",
              "\n",
              "      <script>\n",
              "        const buttonEl =\n",
              "          document.querySelector('#df-5ff1f974-75d1-4835-a0bc-814cf2b16b52 button.colab-df-convert');\n",
              "        buttonEl.style.display =\n",
              "          google.colab.kernel.accessAllowed ? 'block' : 'none';\n",
              "\n",
              "        async function convertToInteractive(key) {\n",
              "          const element = document.querySelector('#df-5ff1f974-75d1-4835-a0bc-814cf2b16b52');\n",
              "          const dataTable =\n",
              "            await google.colab.kernel.invokeFunction('convertToInteractive',\n",
              "                                                     [key], {});\n",
              "          if (!dataTable) return;\n",
              "\n",
              "          const docLinkHtml = 'Like what you see? Visit the ' +\n",
              "            '<a target=\"_blank\" href=https://colab.research.google.com/notebooks/data_table.ipynb>data table notebook</a>'\n",
              "            + ' to learn more about interactive tables.';\n",
              "          element.innerHTML = '';\n",
              "          dataTable['output_type'] = 'display_data';\n",
              "          await google.colab.output.renderOutput(dataTable, element);\n",
              "          const docLink = document.createElement('div');\n",
              "          docLink.innerHTML = docLinkHtml;\n",
              "          element.appendChild(docLink);\n",
              "        }\n",
              "      </script>\n",
              "    </div>\n",
              "  </div>\n",
              "  "
            ]
          },
          "metadata": {},
          "execution_count": 116
        }
      ],
      "source": [
        "def get_mails(df) :\n",
        "  return df[['Email']]\n",
        "\n",
        "get_mails(df)"
      ]
    },
    {
      "cell_type": "code",
      "source": [
        "df['Email'].tolist()\n"
      ],
      "metadata": {
        "colab": {
          "base_uri": "https://localhost:8080/"
        },
        "id": "bjrQYJIBKC_L",
        "outputId": "1a38d762-6e6f-4c25-eea0-9e736f435941"
      },
      "execution_count": 117,
      "outputs": [
        {
          "output_type": "execute_result",
          "data": {
            "text/plain": [
              "['tomas@gmail.com',\n",
              " 'albert@gmail.com',\n",
              " 'nathalie@gmail.com',\n",
              " 'roberto@gmail.com',\n",
              " 'adam@gmail.com']"
            ]
          },
          "metadata": {},
          "execution_count": 117
        }
      ]
    },
    {
      "cell_type": "markdown",
      "metadata": {
        "id": "aS5gSlTzgOgt"
      },
      "source": [
        "**Exercice 7 :**    \n",
        "Ecrire un programme python pandas qui permet de sélectionner et afficher uniquement les deux colonnes 'Nom' et 'Age':"
      ]
    },
    {
      "cell_type": "code",
      "execution_count": 118,
      "metadata": {
        "id": "pH3LsA3Tgas5"
      },
      "outputs": [],
      "source": [
        "import pandas as ps\n",
        "\n",
        "dictData = {'ID' : [31, 71, 30 , 11 , 23] , \n",
        "            'Nom': ['Julia', 'Tiago', 'Charlie' , 'Alba' , 'Isaac'],  \n",
        "        'Age': [22, 21, 20, 20 , 23], \n",
        "        'Taille': [170, 190, 181 , 175 , 165]}\n",
        "# création du dataframe\n",
        "df = ps.DataFrame(dictData , index=[235 , 155 , 243 , 311 , 117])\n",
        " "
      ]
    },
    {
      "cell_type": "code",
      "execution_count": 119,
      "metadata": {
        "id": "wbHrx6TRk62j",
        "colab": {
          "base_uri": "https://localhost:8080/",
          "height": 206
        },
        "outputId": "92725b9a-73f0-4cce-f8d5-49b5f914ac8b"
      },
      "outputs": [
        {
          "output_type": "execute_result",
          "data": {
            "text/plain": [
              "         Nom  Age\n",
              "235    Julia   22\n",
              "155    Tiago   21\n",
              "243  Charlie   20\n",
              "311     Alba   20\n",
              "117    Isaac   23"
            ],
            "text/html": [
              "\n",
              "  <div id=\"df-0dd0720e-19df-4e2a-9623-33e761b4e086\">\n",
              "    <div class=\"colab-df-container\">\n",
              "      <div>\n",
              "<style scoped>\n",
              "    .dataframe tbody tr th:only-of-type {\n",
              "        vertical-align: middle;\n",
              "    }\n",
              "\n",
              "    .dataframe tbody tr th {\n",
              "        vertical-align: top;\n",
              "    }\n",
              "\n",
              "    .dataframe thead th {\n",
              "        text-align: right;\n",
              "    }\n",
              "</style>\n",
              "<table border=\"1\" class=\"dataframe\">\n",
              "  <thead>\n",
              "    <tr style=\"text-align: right;\">\n",
              "      <th></th>\n",
              "      <th>Nom</th>\n",
              "      <th>Age</th>\n",
              "    </tr>\n",
              "  </thead>\n",
              "  <tbody>\n",
              "    <tr>\n",
              "      <th>235</th>\n",
              "      <td>Julia</td>\n",
              "      <td>22</td>\n",
              "    </tr>\n",
              "    <tr>\n",
              "      <th>155</th>\n",
              "      <td>Tiago</td>\n",
              "      <td>21</td>\n",
              "    </tr>\n",
              "    <tr>\n",
              "      <th>243</th>\n",
              "      <td>Charlie</td>\n",
              "      <td>20</td>\n",
              "    </tr>\n",
              "    <tr>\n",
              "      <th>311</th>\n",
              "      <td>Alba</td>\n",
              "      <td>20</td>\n",
              "    </tr>\n",
              "    <tr>\n",
              "      <th>117</th>\n",
              "      <td>Isaac</td>\n",
              "      <td>23</td>\n",
              "    </tr>\n",
              "  </tbody>\n",
              "</table>\n",
              "</div>\n",
              "      <button class=\"colab-df-convert\" onclick=\"convertToInteractive('df-0dd0720e-19df-4e2a-9623-33e761b4e086')\"\n",
              "              title=\"Convert this dataframe to an interactive table.\"\n",
              "              style=\"display:none;\">\n",
              "        \n",
              "  <svg xmlns=\"http://www.w3.org/2000/svg\" height=\"24px\"viewBox=\"0 0 24 24\"\n",
              "       width=\"24px\">\n",
              "    <path d=\"M0 0h24v24H0V0z\" fill=\"none\"/>\n",
              "    <path d=\"M18.56 5.44l.94 2.06.94-2.06 2.06-.94-2.06-.94-.94-2.06-.94 2.06-2.06.94zm-11 1L8.5 8.5l.94-2.06 2.06-.94-2.06-.94L8.5 2.5l-.94 2.06-2.06.94zm10 10l.94 2.06.94-2.06 2.06-.94-2.06-.94-.94-2.06-.94 2.06-2.06.94z\"/><path d=\"M17.41 7.96l-1.37-1.37c-.4-.4-.92-.59-1.43-.59-.52 0-1.04.2-1.43.59L10.3 9.45l-7.72 7.72c-.78.78-.78 2.05 0 2.83L4 21.41c.39.39.9.59 1.41.59.51 0 1.02-.2 1.41-.59l7.78-7.78 2.81-2.81c.8-.78.8-2.07 0-2.86zM5.41 20L4 18.59l7.72-7.72 1.47 1.35L5.41 20z\"/>\n",
              "  </svg>\n",
              "      </button>\n",
              "      \n",
              "  <style>\n",
              "    .colab-df-container {\n",
              "      display:flex;\n",
              "      flex-wrap:wrap;\n",
              "      gap: 12px;\n",
              "    }\n",
              "\n",
              "    .colab-df-convert {\n",
              "      background-color: #E8F0FE;\n",
              "      border: none;\n",
              "      border-radius: 50%;\n",
              "      cursor: pointer;\n",
              "      display: none;\n",
              "      fill: #1967D2;\n",
              "      height: 32px;\n",
              "      padding: 0 0 0 0;\n",
              "      width: 32px;\n",
              "    }\n",
              "\n",
              "    .colab-df-convert:hover {\n",
              "      background-color: #E2EBFA;\n",
              "      box-shadow: 0px 1px 2px rgba(60, 64, 67, 0.3), 0px 1px 3px 1px rgba(60, 64, 67, 0.15);\n",
              "      fill: #174EA6;\n",
              "    }\n",
              "\n",
              "    [theme=dark] .colab-df-convert {\n",
              "      background-color: #3B4455;\n",
              "      fill: #D2E3FC;\n",
              "    }\n",
              "\n",
              "    [theme=dark] .colab-df-convert:hover {\n",
              "      background-color: #434B5C;\n",
              "      box-shadow: 0px 1px 3px 1px rgba(0, 0, 0, 0.15);\n",
              "      filter: drop-shadow(0px 1px 2px rgba(0, 0, 0, 0.3));\n",
              "      fill: #FFFFFF;\n",
              "    }\n",
              "  </style>\n",
              "\n",
              "      <script>\n",
              "        const buttonEl =\n",
              "          document.querySelector('#df-0dd0720e-19df-4e2a-9623-33e761b4e086 button.colab-df-convert');\n",
              "        buttonEl.style.display =\n",
              "          google.colab.kernel.accessAllowed ? 'block' : 'none';\n",
              "\n",
              "        async function convertToInteractive(key) {\n",
              "          const element = document.querySelector('#df-0dd0720e-19df-4e2a-9623-33e761b4e086');\n",
              "          const dataTable =\n",
              "            await google.colab.kernel.invokeFunction('convertToInteractive',\n",
              "                                                     [key], {});\n",
              "          if (!dataTable) return;\n",
              "\n",
              "          const docLinkHtml = 'Like what you see? Visit the ' +\n",
              "            '<a target=\"_blank\" href=https://colab.research.google.com/notebooks/data_table.ipynb>data table notebook</a>'\n",
              "            + ' to learn more about interactive tables.';\n",
              "          element.innerHTML = '';\n",
              "          dataTable['output_type'] = 'display_data';\n",
              "          await google.colab.output.renderOutput(dataTable, element);\n",
              "          const docLink = document.createElement('div');\n",
              "          docLink.innerHTML = docLinkHtml;\n",
              "          element.appendChild(docLink);\n",
              "        }\n",
              "      </script>\n",
              "    </div>\n",
              "  </div>\n",
              "  "
            ]
          },
          "metadata": {},
          "execution_count": 119
        }
      ],
      "source": [
        "def get_name_age(df) :\n",
        "  return df[['Nom', 'Age']]\n",
        "\n",
        "get_name_age(df)"
      ]
    },
    {
      "cell_type": "markdown",
      "metadata": {
        "id": "eDw9myRJhJwj"
      },
      "source": [
        "**Exercice 8 :**    \n",
        "Ecrire un programme pandas python permettant de récupérer la liste des index de la série pandas suivante:"
      ]
    },
    {
      "cell_type": "code",
      "execution_count": 120,
      "metadata": {
        "id": "EKjH6_kPhJUB",
        "colab": {
          "base_uri": "https://localhost:8080/"
        },
        "outputId": "08bad1f7-0af9-4327-acbe-9bf5d700b08f"
      },
      "outputs": [
        {
          "output_type": "execute_result",
          "data": {
            "text/plain": [
              "12    P\n",
              "7     y\n",
              "13    t\n",
              "22    h\n",
              "11    o\n",
              "2     n\n",
              "dtype: object"
            ]
          },
          "metadata": {},
          "execution_count": 120
        }
      ],
      "source": [
        "data = np.array (['P', 'y', 't', 'h', 'o' , 'n'])\n",
        "s = ps.Series(data , index=[12 , 7 , 13 , 22 , 11 , 2])\n",
        "s"
      ]
    },
    {
      "cell_type": "code",
      "execution_count": 121,
      "metadata": {
        "id": "iMdzC7VQk7uz",
        "colab": {
          "base_uri": "https://localhost:8080/"
        },
        "outputId": "a0dc3e0f-005c-4e92-9e00-de563b92cbb5"
      },
      "outputs": [
        {
          "output_type": "execute_result",
          "data": {
            "text/plain": [
              "Int64Index([12, 7, 13, 22, 11, 2], dtype='int64')"
            ]
          },
          "metadata": {},
          "execution_count": 121
        }
      ],
      "source": [
        "s.index"
      ]
    },
    {
      "cell_type": "markdown",
      "metadata": {
        "id": "DMGEiajnjFPM"
      },
      "source": [
        "**Exercice 9 :**    \n",
        "Ecrire un programme basé sur la bibliothèque python pandas qui permet de convertir la série pandas suivante en un dictionnaire python:"
      ]
    },
    {
      "cell_type": "code",
      "execution_count": 122,
      "metadata": {
        "id": "H2m-MfB3jOpV"
      },
      "outputs": [],
      "source": [
        "s = ps.Series([\"Louis\" , \"Maya\" , \"Yassmine\"  ,  \"Rosa\" , \"Tomas\"] , \n",
        "              index= [17 , 21 , 19 , 13  , 27 ])\n",
        " "
      ]
    },
    {
      "cell_type": "code",
      "execution_count": 123,
      "metadata": {
        "id": "amIc8_sDk8sA",
        "colab": {
          "base_uri": "https://localhost:8080/"
        },
        "outputId": "c7200139-6f4d-4363-e420-333a9a371d91"
      },
      "outputs": [
        {
          "output_type": "execute_result",
          "data": {
            "text/plain": [
              "{17: 'Louis', 21: 'Maya', 19: 'Yassmine', 13: 'Rosa', 27: 'Tomas'}"
            ]
          },
          "metadata": {},
          "execution_count": 123
        }
      ],
      "source": [
        "s.to_dict()"
      ]
    },
    {
      "cell_type": "markdown",
      "metadata": {
        "id": "MpfL7nOYkM18"
      },
      "source": [
        "**Exercice 10 :**    \n",
        "Ecrire un programme basé sur la bibliothèque pandas python qui permet d'ajouter le nom 'Clara' à la série pandas suivante:"
      ]
    },
    {
      "cell_type": "code",
      "execution_count": 124,
      "metadata": {
        "id": "gDFM1xkAknEA"
      },
      "outputs": [],
      "source": [
        "s = ps.Series([\"Emma\" , \"Alice\" , \"Paul\"  ,  \"Tiago\" , \"Julia\"] , \n",
        "              index= [17 , 21 , 19 , 13  , 27 ])"
      ]
    },
    {
      "cell_type": "code",
      "execution_count": 125,
      "metadata": {
        "id": "9gBK8J4ok9Z3",
        "colab": {
          "base_uri": "https://localhost:8080/"
        },
        "outputId": "84d23355-4c6a-466c-86dc-b0bd90d2969c"
      },
      "outputs": [
        {
          "output_type": "execute_result",
          "data": {
            "text/plain": [
              "17     Emma\n",
              "21    Alice\n",
              "19     Paul\n",
              "13    Tiago\n",
              "27    Julia\n",
              "22    Clara\n",
              "dtype: object"
            ]
          },
          "metadata": {},
          "execution_count": 125
        }
      ],
      "source": [
        "s[22]='Clara'\n",
        "s"
      ]
    }
  ],
  "metadata": {
    "kernelspec": {
      "display_name": "Python 3",
      "name": "python3"
    },
    "language_info": {
      "name": "python"
    },
    "colab": {
      "provenance": []
    }
  },
  "nbformat": 4,
  "nbformat_minor": 0
}